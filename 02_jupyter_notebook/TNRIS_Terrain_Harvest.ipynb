{
 "cells": [
  {
   "cell_type": "markdown",
   "metadata": {},
   "source": [
    "\n",
    " - Created by:   __Andy Carter, PE__\n",
    " >andy.carter@utexas.edu\n",
    "\n",
    " - Created On:   __22 May 2020__<br><br>\n",
    " - Last revised:  __Verison 2.0  // Released 28 Sept 2020__<br><br>\n",
    " \n",
    " - Purpose:\n",
    " >This routine utilizes an input polygon shape of a requested area and intersects it with the TNRIS LiDAR index and the Quarter Quad index. From the intersection of these three datasets, the routine makes requests to TNRIS to download, unzip and store the necessary tiles.  Once stored, these files are merged into a single DEM and written with the appropriate metadata.\n",
    " \n",
    " - Inputs required:\n",
    "  > 1) ESRI Shapefile of the TNRIS QuarterQuad shapefile (EPSG: 4269)<br>\n",
    "    2) ESRI Shapefile of the TNRIS LiDAR Tile index (EPSG: 4269)<br>\n",
    "    3) ESRI Shapefile of the area to be sampled (EPSG: zone does not matter)<br>\n",
    "    \n",
    " - Output generated:\n",
    "  > Single GeoTIFF DEM\n",
    "    "
   ]
  },
  {
   "cell_type": "markdown",
   "metadata": {},
   "source": [
    "***\n",
    "### 1.0 References\n",
    "\n",
    "Geopandas is used to perform the geoprocessing of the shapefiles.  This uses GDAL and Fiona.\n",
    "Rasterio is used for reading, plotting and merging the raster images<br>"
   ]
  },
  {
   "cell_type": "code",
   "execution_count": 1,
   "metadata": {},
   "outputs": [],
   "source": [
    "import numpy as np\n",
    "import pandas as pd\n",
    "\n",
    "import geopandas as gpd\n",
    "import rasterio\n",
    "\n",
    "import osr\n",
    "import gdal\n",
    "\n",
    "import requests, zipfile, io\n",
    "\n",
    "import os\n",
    "import shutil\n",
    "import glob\n",
    "import matplotlib.pyplot as plt\n",
    "import re\n",
    "\n",
    "import urllib\n",
    "\n",
    "from rasterio.merge import merge\n",
    "from rasterio.mask import mask\n",
    "from rasterio.plot import show\n",
    "from rasterio import features\n",
    "from rasterio.warp import calculate_default_transform, reproject, Resampling\n",
    "\n",
    "from multiprocessing.pool import ThreadPool"
   ]
  },
  {
   "cell_type": "markdown",
   "metadata": {},
   "source": [
    "***\n",
    "### 2.0 Input Data\n",
    "\n",
    "This routine uses a QuarterQuad shapfile and QQQQ tile index as input.  Please set all paths prior to use."
   ]
  },
  {
   "cell_type": "code",
   "execution_count": 2,
   "metadata": {},
   "outputs": [],
   "source": [
    "# - Input\n",
    "strQQ_AR = r\"C:\\Users\\FN34GZ1\\TerrainHarvest_Input\\StratMap_QQ_Index_AR_4269.shp\"\n",
    "\n",
    "strLidar_AR = r\"C:\\Users\\FN34GZ1\\TerrainHarvest_Input\\TNRIS_LiDAR_Available_AR_4269.shp\"\n",
    "\n",
    "strBounady_AR = r\"C:\\Junk\\Walnut_Terrain\\Walnut_AOI_AR_2277.shp\"\n",
    "\n",
    "#------------------------------------------\n",
    "#Input\n",
    "#2277 - Centeral Texas State Plane - UsFt - Change as needed.\n",
    "int_dst_crs = 2277\n",
    "dst_crs = 'EPSG:' + str(int_dst_crs)\n",
    "\n",
    "#Input - distance of buffer on clip boundary\n",
    "flt_bufferDist = 400\n",
    "#------------------------------------------\n",
    "\n",
    "# - Output\n",
    "strOutput_AR = r\"C:\\Junk\\Test_Area\\Output\\clip_LiDAR_QQ_AR.shp\"\n",
    "\n",
    "# Path to store the downloaded DEM zip file - Path to folder holding DEMs to merge\n",
    "strDEMDownloadPath = r\"C:\\Junk\\Test_Area\\Output\"\n",
    "\n",
    "# Output path where the merged GeoTIFF will be placed\n",
    "strOutTiffPath = strDEMDownloadPath + r\"\\dem_merge_test.tif\"\n",
    "\n",
    "# Output path where the clipped GeoTIFF will be placed\n",
    "strClip_Path = strDEMDownloadPath + r\"\\dem_clip_test.tif\"\n",
    "\n",
    "#------------------------------------------"
   ]
  },
  {
   "cell_type": "markdown",
   "metadata": {},
   "source": [
    "***\n",
    "### 3.0 Read in Shapefiles\n",
    "\n",
    "Using geopandas, read in the shapefile and plot check data"
   ]
  },
  {
   "cell_type": "code",
   "execution_count": 3,
   "metadata": {},
   "outputs": [],
   "source": [
    "# Read the shapefiles using geopandas\n",
    "df_QQ = gpd.read_file(strQQ_AR)\n",
    "\n",
    "df_LiDARTiles = gpd.read_file(strLidar_AR)\n",
    "\n",
    "#The boundary file should be in the projection (EPSG) of the final terrain.\n",
    "df_boundary = gpd.read_file(strBounady_AR)"
   ]
  },
  {
   "cell_type": "code",
   "execution_count": 4,
   "metadata": {},
   "outputs": [],
   "source": [
    "# Re-project the requested data Polygon into same CRS as the dst_crs\n",
    "df_boundary = df_boundary.to_crs(epsg=int_dst_crs)\n",
    "\n",
    "#Buffer the clip boundary - better to do before data request\n",
    "df_boundary['geometry'] = df_boundary.geometry.buffer(flt_bufferDist,resolution=16)"
   ]
  },
  {
   "cell_type": "code",
   "execution_count": 5,
   "metadata": {},
   "outputs": [],
   "source": [
    "# Re-project the requested data Polygon into same CRS as the QQ grid\n",
    "df_boundary = df_boundary.to_crs(crs=df_QQ.crs)"
   ]
  },
  {
   "cell_type": "code",
   "execution_count": 6,
   "metadata": {},
   "outputs": [
    {
     "name": "stdout",
     "output_type": "stream",
     "text": [
      "epsg:4269\n",
      "epsg:4269\n",
      "epsg:4269\n"
     ]
    }
   ],
   "source": [
    "print(df_QQ.crs)\n",
    "print(df_LiDARTiles.crs)\n",
    "print(df_boundary.crs)"
   ]
  },
  {
   "cell_type": "code",
   "execution_count": 7,
   "metadata": {},
   "outputs": [
    {
     "data": {
      "image/png": "[encoded data removed]",
      "text/plain": [
       "<Figure size 432x288 with 1 Axes>"
      ]
     },
     "metadata": {
      "needs_background": "light"
     },
     "output_type": "display_data"
    },
    {
     "data": {
      "image/png": "[encoded data removed]",
      "text/plain": [
       "<Figure size 432x288 with 1 Axes>"
      ]
     },
     "metadata": {
      "needs_background": "light"
     },
     "output_type": "display_data"
    }
   ],
   "source": [
    "#Plot the TNRIS liDAR (these are the Quarter Quads)\n",
    "df_QQ.plot();\n",
    "#Plot the overlay polygon for the area to be querried\n",
    "df_boundary.plot(color='red', edgecolor='black');"
   ]
  },
  {
   "cell_type": "markdown",
   "metadata": {},
   "source": [
    "***\n",
    "### 4.0 Intersect Shapefiles\n",
    "\n",
    "Intersect the three (3) shapefiles<br>\n",
    "requested limits, QuarterQuad Index, LiDAR Index"
   ]
  },
  {
   "cell_type": "code",
   "execution_count": 8,
   "metadata": {},
   "outputs": [
    {
     "data": {
      "text/html": [
       "<div>\n",
       "<style scoped>\n",
       "    .dataframe tbody tr th:only-of-type {\n",
       "        vertical-align: middle;\n",
       "    }\n",
       "\n",
       "    .dataframe tbody tr th {\n",
       "        vertical-align: top;\n",
       "    }\n",
       "\n",
       "    .dataframe thead th {\n",
       "        text-align: right;\n",
       "    }\n",
       "</style>\n",
       "<table border=\"1\" class=\"dataframe\">\n",
       "  <thead>\n",
       "    <tr style=\"text-align: right;\">\n",
       "      <th></th>\n",
       "      <th>geometry</th>\n",
       "    </tr>\n",
       "  </thead>\n",
       "  <tbody>\n",
       "    <tr>\n",
       "      <th>0</th>\n",
       "      <td>POLYGON ((-97.67629 30.43153, -97.67616 30.431...</td>\n",
       "    </tr>\n",
       "  </tbody>\n",
       "</table>\n",
       "</div>"
      ],
      "text/plain": [
       "                                            geometry\n",
       "0  POLYGON ((-97.67629 30.43153, -97.67616 30.431..."
      ]
     },
     "execution_count": 8,
     "metadata": {},
     "output_type": "execute_result"
    }
   ],
   "source": [
    "df_boundary.head()"
   ]
  },
  {
   "cell_type": "code",
   "execution_count": 9,
   "metadata": {},
   "outputs": [],
   "source": [
    "# Intersection of the Quarter Quads with the requested area boundary\n",
    "# To intersect, both shapefiles need to be on the same CRS\n",
    "# TODO - Check and if necessary convert each of the shapefiles to the correct CRS - Web Mercator EPSG 4269\n",
    "df_clip_QQ = gpd.overlay(df_QQ, df_boundary, how='intersection')"
   ]
  },
  {
   "cell_type": "code",
   "execution_count": 10,
   "metadata": {},
   "outputs": [
    {
     "data": {
      "text/plain": [
       "<AxesSubplot:>"
      ]
     },
     "execution_count": 10,
     "metadata": {},
     "output_type": "execute_result"
    },
    {
     "data": {
      "image/png": "[encoded data removed]",
      "text/plain": [
       "<Figure size 432x288 with 1 Axes>"
      ]
     },
     "metadata": {
      "needs_background": "light"
     },
     "output_type": "display_data"
    }
   ],
   "source": [
    "# Plot the intersected shapefile - These are the QuarterQuads in the boundary\n",
    "#TNRIS stores the zipped DEMs as QuarterQuads\n",
    "df_clip_QQ.plot(color='green', edgecolor='black', alpha=0.95)"
   ]
  },
  {
   "cell_type": "code",
   "execution_count": 11,
   "metadata": {},
   "outputs": [
    {
     "data": {
      "text/html": [
       "<div>\n",
       "<style scoped>\n",
       "    .dataframe tbody tr th:only-of-type {\n",
       "        vertical-align: middle;\n",
       "    }\n",
       "\n",
       "    .dataframe tbody tr th {\n",
       "        vertical-align: top;\n",
       "    }\n",
       "\n",
       "    .dataframe thead th {\n",
       "        text-align: right;\n",
       "    }\n",
       "</style>\n",
       "<table border=\"1\" class=\"dataframe\">\n",
       "  <thead>\n",
       "    <tr style=\"text-align: right;\">\n",
       "      <th></th>\n",
       "      <th>Quad4th</th>\n",
       "      <th>QuadName</th>\n",
       "      <th>QQuadNam</th>\n",
       "      <th>stratmap_I</th>\n",
       "      <th>geometry</th>\n",
       "    </tr>\n",
       "  </thead>\n",
       "  <tbody>\n",
       "    <tr>\n",
       "      <th>0</th>\n",
       "      <td>3097_35_4</td>\n",
       "      <td>PFLUGERVILLE WEST</td>\n",
       "      <td>PFLUGERVILLE WEST SE</td>\n",
       "      <td>3097354</td>\n",
       "      <td>POLYGON ((-97.67629 30.43153, -97.67616 30.431...</td>\n",
       "    </tr>\n",
       "  </tbody>\n",
       "</table>\n",
       "</div>"
      ],
      "text/plain": [
       "     Quad4th           QuadName              QQuadNam stratmap_I  \\\n",
       "0  3097_35_4  PFLUGERVILLE WEST  PFLUGERVILLE WEST SE    3097354   \n",
       "\n",
       "                                            geometry  \n",
       "0  POLYGON ((-97.67629 30.43153, -97.67616 30.431...  "
      ]
     },
     "execution_count": 11,
     "metadata": {},
     "output_type": "execute_result"
    }
   ],
   "source": [
    "#Show the attribute table for the merged shapefile for the first three records\n",
    "#note that \"stratmap_I\" feild is the ID for the given Quarter Quad tile\n",
    "df_clip_QQ.head(3)"
   ]
  },
  {
   "cell_type": "code",
   "execution_count": 12,
   "metadata": {},
   "outputs": [],
   "source": [
    "# Intersection of the TNRIS LiDAR Tiles index with the watershed boundary\n",
    "# This takes several seconds\n",
    "df_clip_Lidar = gpd.overlay(df_LiDARTiles, df_boundary, how='intersection')"
   ]
  },
  {
   "cell_type": "code",
   "execution_count": 13,
   "metadata": {},
   "outputs": [
    {
     "data": {
      "text/plain": [
       "<AxesSubplot:>"
      ]
     },
     "execution_count": 13,
     "metadata": {},
     "output_type": "execute_result"
    },
    {
     "data": {
      "image/png": "[encoded data removed]",
      "text/plain": [
       "<Figure size 432x288 with 1 Axes>"
      ]
     },
     "metadata": {
      "needs_background": "light"
     },
     "output_type": "display_data"
    }
   ],
   "source": [
    "# Plot the intersected shapefile - These are the liDAR tiles in the boundary\n",
    "df_clip_Lidar.plot(color='orange', edgecolor='black', alpha=0.95)"
   ]
  },
  {
   "cell_type": "code",
   "execution_count": 14,
   "metadata": {},
   "outputs": [
    {
     "data": {
      "text/html": [
       "<div>\n",
       "<style scoped>\n",
       "    .dataframe tbody tr th:only-of-type {\n",
       "        vertical-align: middle;\n",
       "    }\n",
       "\n",
       "    .dataframe tbody tr th {\n",
       "        vertical-align: top;\n",
       "    }\n",
       "\n",
       "    .dataframe thead th {\n",
       "        text-align: right;\n",
       "    }\n",
       "</style>\n",
       "<table border=\"1\" class=\"dataframe\">\n",
       "  <thead>\n",
       "    <tr style=\"text-align: right;\">\n",
       "      <th></th>\n",
       "      <th>tilename</th>\n",
       "      <th>demname</th>\n",
       "      <th>dirname</th>\n",
       "      <th>las_size_m</th>\n",
       "      <th>dem_size_m</th>\n",
       "      <th>laz_size_m</th>\n",
       "      <th>geometry</th>\n",
       "    </tr>\n",
       "  </thead>\n",
       "  <tbody>\n",
       "    <tr>\n",
       "      <th>0</th>\n",
       "      <td>stratmap17-50cm_3097354a1</td>\n",
       "      <td>stratmap17-1m_3097354a1</td>\n",
       "      <td>stratmap-2017-50cm-central-texas</td>\n",
       "      <td>573.117100</td>\n",
       "      <td>13.0</td>\n",
       "      <td>72.551294</td>\n",
       "      <td>POLYGON ((-97.67123 30.43109, -97.67125 30.429...</td>\n",
       "    </tr>\n",
       "    <tr>\n",
       "      <th>1</th>\n",
       "      <td>stratmap17-50cm_3097354a2</td>\n",
       "      <td>stratmap17-1m_3097354a2</td>\n",
       "      <td>stratmap-2017-50cm-central-texas</td>\n",
       "      <td>486.707735</td>\n",
       "      <td>13.0</td>\n",
       "      <td>54.335616</td>\n",
       "      <td>POLYGON ((-97.67255 30.42661, -97.67249 30.431...</td>\n",
       "    </tr>\n",
       "  </tbody>\n",
       "</table>\n",
       "</div>"
      ],
      "text/plain": [
       "                    tilename                  demname  \\\n",
       "0  stratmap17-50cm_3097354a1  stratmap17-1m_3097354a1   \n",
       "1  stratmap17-50cm_3097354a2  stratmap17-1m_3097354a2   \n",
       "\n",
       "                            dirname  las_size_m  dem_size_m  laz_size_m  \\\n",
       "0  stratmap-2017-50cm-central-texas  573.117100        13.0   72.551294   \n",
       "1  stratmap-2017-50cm-central-texas  486.707735        13.0   54.335616   \n",
       "\n",
       "                                            geometry  \n",
       "0  POLYGON ((-97.67123 30.43109, -97.67125 30.429...  \n",
       "1  POLYGON ((-97.67255 30.42661, -97.67249 30.431...  "
      ]
     },
     "execution_count": 14,
     "metadata": {},
     "output_type": "execute_result"
    }
   ],
   "source": [
    "#Create a merge tile for each dataset\n",
    "df_clip_Lidar.head(3)"
   ]
  },
  {
   "cell_type": "code",
   "execution_count": 15,
   "metadata": {},
   "outputs": [],
   "source": [
    "#Intersect the QQ and the Lidar tiles\n",
    "df_clip_QQ_lidar = gpd.overlay(df_clip_Lidar, df_clip_QQ, how='intersection')"
   ]
  },
  {
   "cell_type": "code",
   "execution_count": 16,
   "metadata": {},
   "outputs": [
    {
     "data": {
      "text/plain": [
       "<AxesSubplot:>"
      ]
     },
     "execution_count": 16,
     "metadata": {},
     "output_type": "execute_result"
    },
    {
     "data": {
      "image/png": "[encoded data removed]",
      "text/plain": [
       "<Figure size 432x288 with 1 Axes>"
      ]
     },
     "metadata": {
      "needs_background": "light"
     },
     "output_type": "display_data"
    }
   ],
   "source": [
    "# Plot the intersected shapefile - These are the liDAR tiles in the boundary\n",
    "df_clip_QQ_lidar.plot(color='orange', edgecolor='black', alpha=0.65)"
   ]
  },
  {
   "cell_type": "code",
   "execution_count": 17,
   "metadata": {},
   "outputs": [],
   "source": [
    "#write the shapefile of the intersection of the LiDAR Tiles, requested boundary and DEM QuarterQuads\n",
    "df_clip_QQ_lidar.to_file(strOutput_AR)"
   ]
  },
  {
   "cell_type": "markdown",
   "metadata": {},
   "source": [
    "***\n",
    "### 5.0 Determine Datasets\n",
    "\n",
    "These are the different datasets in the requested area of interest"
   ]
  },
  {
   "cell_type": "code",
   "execution_count": 18,
   "metadata": {},
   "outputs": [
    {
     "name": "stdout",
     "output_type": "stream",
     "text": [
      "['stratmap-2017-50cm-central-texas']\n"
     ]
    }
   ],
   "source": [
    "#Determine the unique 'dirname' in the df_clip_QQ_lidar\n",
    "#These are the datasets that intersect the requested boundary\n",
    "arr_unique_dataset = (df_clip_QQ_lidar.dirname.unique())\n",
    "print(arr_unique_dataset)"
   ]
  },
  {
   "cell_type": "markdown",
   "metadata": {},
   "source": [
    "***\n",
    "### 6.0 Functions"
   ]
  },
  {
   "cell_type": "code",
   "execution_count": 19,
   "metadata": {},
   "outputs": [],
   "source": [
    "#Function - Get the TNRIS GUID for each dataset\n",
    "\n",
    "def getTNRIS_GUID(argument):\n",
    "        switcher = {\n",
    "            \"usgs-2018-70cm-lavaca-wharton\": \"642a83e0-c735-4ba6-a89c-85a723a1ad94\",\n",
    "            \"usgs-2017-70cm-brazos-freestone-robertson\": \"b6ea8e3a-c8b7-4d97-b4d1-4eb8172eb87d\",\n",
    "            \"fema-2006-140cm-coastal\": \"8ea19b45-7a66-4e95-9833-f9e89611d106\",\n",
    "            \"fema-2011-61cm-comal-guadalupe\": \"3fbac9d5-d6ec-4201-8261-22d3d0c2684d\",\n",
    "            \"ibwc-2006-70cm-cameron\": \"41bf20d7-7741-4347-ade3-915cee799e88\",\n",
    "            \"ibwc-2011-70cm-rio-grande\": \"27f30e8a-115a-4ad5-ace1-5e2aa4a53a70\",\n",
    "            \"usgs-2011-150cm-calhoun-hidalgo-nueces\": \"6a825941-a80b-4a61-a2b2-1da205f2f28b\",\n",
    "            \"fema-2013-60cm-middle-brazos-palo-pinto\": \"2032756b-ee41-4782-bbca-59b237fe3d9e\",\n",
    "            \"cityofgeorgetown-2015-50cm\": \"04f42cd7-bd81-42d2-bf9e-eca1d04e1936\",\n",
    "            \"capcog-2008-140cm-bastrop-fayette-hays\": \"1f1d417a-26f2-41d5-9787-af392d0f09cf\",\n",
    "            \"lcra-2007-140cm\": \"ab743202-206c-4c37-99b1-9a46db93bd4c\",\n",
    "            \"fema-2015-70cm-middle-brazos\": \"2645daf3-beb7-4137-98cf-c28b97008d89\",\n",
    "            \"hgac-2008-1m\": \"4e306d96-e77f-4794-b818-eba5c85140de\",\n",
    "            \"fema-2014-1m-rio-grande\": \"6405ede8-8b03-411f-9544-cd6b3f6fe7fc\",\n",
    "            \"fema-2014-70cm-upper-clear-fork\": \"34e6ffc2-8854-4047-9c3b-498bf10d032c\",\n",
    "            \"fema-2016-70cm-dewitt\": \"4bd279fc-e358-4cdb-abc0-4e34516b21d3\",\n",
    "            \"stratmap-2009-1m-zapata\": \"73fcedd4-2cfb-46af-83f0-302fae56edaa\",\n",
    "            \"stratmap-2009-1m-mcmullen\": \"73fcedd4-2cfb-46af-83f0-302fae56edaa\",\n",
    "            \"stratmap-2009-1m-goliad\": \"73fcedd4-2cfb-46af-83f0-302fae56edaa\",\n",
    "            \"stratmap-2009-1m-dallas\": \"9aba8b42-4a55-4687-95aa-5a7cf75c970a\",\n",
    "            \"stratmap-2009-50cm-tarrant\": \"7bc5f57d-f679-454f-8fd3-bdffc8d54272\",\n",
    "            \"stratmap-2010-1m-lee-leon-madison-milam\": \"812c6179-28d7-4829-b99e-ae15d4a7cf5b\",\n",
    "            \"stratmap-2010-50cm-bexar\": \"b133455e-0196-4e5d-b69b-a962847afce3\",\n",
    "            \"stratmap-2010-50cm-cooke-grayson-montague-wise\": \"6bb27abd-b30c-4bd0-b429-a570fd999e15\",\n",
    "            \"stratmap-2012-50cm-tceq-dam-sites\": \"fda08eb6-8daa-4daf-bfec-0fb0891cb732\",\n",
    "            \"stratmap-2013-50cm-karnes-wilson\": \"6b475ef7-51e7-4e15-b652-4e942eafa85f\",\n",
    "            \"stratmap-2013-50cm-ellis-henderson-hill-johnson-navarro\": \"6b475ef7-51e7-4e15-b652-4e942eafa85f\",\n",
    "            \"stratmap-2014-50cm-fort-bend\": \"21130f88-dac2-4c36-9d9b-1fd9dc07750e\",\n",
    "            \"stratmap-2014-50cm-bandera\": \"9dabb50e-00a1-46e5-8966-8a54ac424de6\",\n",
    "            \"stratmap-2014-50cm-lampasas\": \"9dabb50e-00a1-46e5-8966-8a54ac424de6\",\n",
    "            \"stratmap-2014-50cm-henderson-smith-van-zandt-trinity-river\": \"18c52542-dc6f-4a12-88b3-59ecc8e6d53d\",\n",
    "            \"stratmap-2015-50cm-brazos\": \"48ce46cb-7aba-406c-8330-f6c5b43389c1\",\n",
    "            \"stratmap-2017-50cm-east-texas\": \"f09f36b9-12b1-4c88-bccb-017afa9bc3d8\",\n",
    "            \"stratmap-2011-1m-sabine-shelby-newton\": \"da097bc5-240e-400e-944f-0e403fbd781f\",\n",
    "            \"stratmap-2011-50cm-austin-grimes-walker\": \"d69e74b0-9c20-4a7d-9b3d-f251eb318bfe\",\n",
    "            \"stratmap-2011-50cm-caldwell-gonzales\": \"760f9068-426e-4c30-9829-177259d1da0f\",\n",
    "            \"stratmap-2011-50cm-bell-burnet-mclennan\": \"02a1485c-2c6e-4f4c-9f52-17c1d59dab59\",\n",
    "            \"stratmap-2011-50cm-collin-denton-kaufman\": \"d9ce5448-30a5-46cf-a246-55ba7c8304f0\",\n",
    "            \"stratmap-2011-50cm-blanco-kendall-kerr\": \"760f9068-426e-4c30-9829-177259d1da0f\",\n",
    "            \"stratmap-2017-50cm-central-texas\": \"0549d3ba-3f72-4710-b26c-28c65df9c70d\",\n",
    "            \"stratmap-2017-35cm-chambers-liberty\": \"12342f12-2d74-44c4-9f00-a5c12ac2659c\",\n",
    "            \"stratmap-2017-50cm-jefferson\": \"12342f12-2d74-44c4-9f00-a5c12ac2659c\",\n",
    "            \"stratmap-2018-50cm-crockett\": \"a8ef3bfc-1e26-4fba-9abe-1b86ecd594e2\",\n",
    "            \"usgs-2014-70cm-archer-jack\": \"cd8246cf-99fa-4504-b178-8c6ddecc1c02\",\n",
    "            \"usgs-2016-70cm-middle-brazos-lake-whitney\": \"5a227e2c-fe2f-4e43-a981-a462c37eb488\",\n",
    "            \"usgs-2016-70cm-neches-river-basin\": \"67af6a3e-2c73-446d-a5b7-243b4b6ae4ec\",\n",
    "            \"usgs-2017-70cm-amistad-nra\": \"bb8bfbba-3f17-46f7-8c6b-f2785e01dd19\",\n",
    "            \"stratmap-2018-50cm-upper-coast\": \"b5bd2b96-8ba5-4dc6-ba88-d88133eb6643\",\n",
    "            \"usgs-2018-70cm-south-central\": \"77f928dc-298b-4b2e-9efd-8e2e16ece2c0\",\n",
    "            \"usgs-2016-70cm-brazos-basin\": \"d55b62b3-fd81-4e15-a034-6fda56cde7de\",\n",
    "            \"usgs-2017-70cm-red-river\": \"ff2f83a7-37e7-46a8-ba6c-d3208a51c778\",\n",
    "            \"stratmap-2019-50cm-brown-county\": \"46b000dd-83b2-4701-b5c6-3f6e18cedccf\",\n",
    "            \"stratmap-2019-50cm-missouri-city\": \"66d886a6-13b9-46a9-936a-bf2ce4f71aaf\",\n",
    "            \"usgs-2018-70cm-eastern\": \"13563a34-6a6d-4171-ad34-fbdfb26165ae\",\n",
    "            \"usgs-2018-70cm-south-texas\": \"6131ecdd-aa26-433e-9a24-97ac1afda7de\",\n",
    "            \"usgs-2008-120cm-kenedy-kleberg\": \"cafa0c1b-5586-49dc-8f6a-cf1fab93362a\",\n",
    "            \"usgs-2018-70cm-texas-panhandle\": \"0d805408-d173-45d1-a820-5e0d9453e972\",\n",
    "            \"usgs-2018-70cm-texas-west-central\": \"de1b77e1-3110-41e7-a6a5-81cbbdda5ec3\",\n",
    "            \"usgs-2018-70cm-lower-colorado-san-bernard\": \"b246f8f7-9c79-4c89-91f7-9c7f44955fca\",\n",
    "            \"usgs-2018-50cm-matagorda-bay\": \"8774ed51-b633-4f03-85ca-94c311ee0a88\",\n",
    "        }\n",
    "        return switcher.get(argument, \"Nothing_Found\")\n",
    "    \n",
    "#Function - Get the Tile Header for each dataset\n",
    "# Note that the Tile header is not always equal to the dirname - UGH!\n",
    "\n",
    "def getTNRIS_TileHeader(argument):\n",
    "        switcher = {\n",
    "            \"usgs-2018-70cm-lavaca-wharton\": \"usgs18-70cm-lavaca-wharton\",\n",
    "            \"usgs-2017-70cm-brazos-freestone-robertson\": \"usgs17-70cm-brazos-freestone-robertson\",\n",
    "            \"fema-2006-140cm-coastal\": \"fema06-140cm-coastal\",\n",
    "            \"fema-2011-61cm-comal-guadalupe\": \"fema11-61cm-comal-guadalupe\",\n",
    "            \"ibwc-2006-70cm-cameron\": \"ibwc06-70cm-cameron\",\n",
    "            \"ibwc-2011-70cm-rio-grande\": \"ibwc11-70cm-rio-grande\",\n",
    "            \"usgs-2011-150cm-calhoun-hidalgo-nueces\": \"usgs11-150cm-calhoun-hidalgo-nueces\",\n",
    "            \"fema-2013-60cm-middle-brazos-palo-pinto\": \"fema13-60cm-middle-brazos-palo-pinto\",\n",
    "            \"cityofgeorgetown-2015-50cm\": \"city-of-georgetown15-50cm\",\n",
    "            \"capcog-2008-140cm-bastrop-fayette-hays\": \"capcog08-140cm-bastrop-fayette-hays\",\n",
    "            \"lcra-2007-140cm\": \"lcra07-140cm\",\n",
    "            \"fema-2015-70cm-middle-brazos\": \"fema15-70cm-middle-brazos\",\n",
    "            \"hgac-2008-1m\": \"hgac08-1m\",\n",
    "            \"fema-2014-1m-rio-grande\": \"fema14-1m-rio-grande\",\n",
    "            \"fema-2014-70cm-upper-clear-fork\": \"fema14-70cm-upper-clear-fork\",\n",
    "            \"fema-2016-70cm-dewitt\": \"fema16-70cm-dewitt\",\n",
    "            \"stratmap-2009-1m-zapata\": \"stratmap09-1m-zapata\",\n",
    "            \"stratmap-2009-1m-mcmullen\": \"stratmap09-1m-mcmullen\",\n",
    "            \"stratmap-2009-1m-goliad\": \"stratmap09-1m-goliad\",\n",
    "            \"stratmap-2009-1m-dallas\": \"stratmap09-1m-dallas\",\n",
    "            \"stratmap-2009-50cm-tarrant\": \"stratmap09-50cm-tarrant\",\n",
    "            \"stratmap-2010-1m-lee-leon-madison-milam\": \"stratmap10-1m-lee-leon-madison-milam\",\n",
    "            \"stratmap-2010-50cm-bexar\": \"stratmap10-50cm-bexar\",\n",
    "            \"stratmap-2010-50cm-cooke-grayson-montague-wise\": \"stratmap10-50cm-cooke-grayson-montague-wise\",\n",
    "            \"stratmap-2012-50cm-tceq-dam-sites\": \"stratmap12-50cm-tceq-dam-sites\",\n",
    "            \"stratmap-2013-50cm-karnes-wilson\": \"stratmap13-50cm-karnes-wilson\",\n",
    "            \"stratmap-2013-50cm-ellis-henderson-hill-johnson-navarro\": \"stratmap13-50cm-ellis-henderson-hill-johnson-navarro\",\n",
    "            \"stratmap-2014-50cm-fort-bend\": \"stratmap14-50cm-fort-bend\",\n",
    "            \"stratmap-2014-50cm-bandera\": \"stratmap14-50cm-bandera\",\n",
    "            \"stratmap-2014-50cm-lampasas\": \"stratmap14-50cm-lampasas\",\n",
    "            \"stratmap-2014-50cm-henderson-smith-van-zandt-trinity-river\": \"stratmap14-50cm-henderson-smith-van-zandt-trinity-river\",\n",
    "            \"stratmap-2015-50cm-brazos\": \"stratmap15-50cm-brazos\",\n",
    "            \"stratmap-2017-50cm-east-texas\": \"stratmap17-50cm-east-texas\",\n",
    "            \"stratmap-2011-1m-sabine-shelby-newton\": \"stratmap11-1m-sabine-shelby-newton\",\n",
    "            \"stratmap-2011-50cm-austin-grimes-walker\": \"stratmap11-50cm-austin-grimes-walker\",\n",
    "            \"stratmap-2011-50cm-caldwell-gonzales\": \"stratmap11-50cm-caldwell-gonzales\",\n",
    "            \"stratmap-2011-50cm-bell-burnet-mclennan\": \"stratmap11-50cm-bell-burnet-mclennan\",\n",
    "            \"stratmap-2011-50cm-collin-denton-kaufman\": \"stratmap11-50cm-collin-denton-kaufman\",\n",
    "            \"stratmap-2011-50cm-blanco-kendall-kerr\": \"stratmap11-50cm-blanco-kendall-kerr\",\n",
    "            \"stratmap-2017-50cm-central-texas\": \"stratmap17-50cm-central-texas\",\n",
    "            \"stratmap-2017-35cm-chambers-liberty\": \"stratmap17-35cm-chambers-liberty\",\n",
    "            \"stratmap-2017-50cm-jefferson\": \"stratmap17-50cm-jefferson\",\n",
    "            \"stratmap-2018-50cm-crockett\": \"stratmap18-50cm-crockett\",\n",
    "            \"usgs-2014-70cm-archer-jack\": \"usgs14-70cm-archer-jack\",\n",
    "            \"usgs-2016-70cm-middle-brazos-lake-whitney\": \"usgs16-70cm-middle-brazos-lake-whitney\",\n",
    "            \"usgs-2016-70cm-neches-river-basin\": \"usgs16-70cm-neches-basin\",\n",
    "            \"usgs-2017-70cm-amistad-nra\": \"usgs17-70cm-amistad-nra\",\n",
    "            \"stratmap-2018-50cm-upper-coast\": \"stratmap18-50cm-upper-coast\",\n",
    "            \"usgs-2018-70cm-south-central\": \"usgs18-70cm-south-central\",\n",
    "            \"usgs-2016-70cm-brazos-basin\": \"usgs16-70cm-brazos-basin\",\n",
    "            \"usgs-2017-70cm-red-river\": \"usgs17-70cm-red-river\",\n",
    "            \"stratmap-2019-50cm-brown-county\": \"stratmap19-50cm-brown-county\",\n",
    "            \"stratmap-2019-50cm-missouri-city\": \"stratmap19-50cm-missouri-city\",\n",
    "            \"usgs-2018-70cm-eastern\": \"usgs18-70cm-eastern\",\n",
    "            \"usgs-2018-70cm-south-texas\": \"usgs18-70cm-south-texas\",\n",
    "            \"usgs-2008-120cm-kenedy-kleberg\": \"usgs08-120cm-kenedy-kleberg\",\n",
    "            \"usgs-2018-70cm-texas-panhandle\": \"usgs18-70cm-panhandle-texas\",\n",
    "            \"usgs-2018-70cm-texas-west-central\": \"usgs18-70cm-tx-west-central\",\n",
    "            \"usgs-2018-70cm-lower-colorado-san-bernard\": \"usgs18-70cm-lower-colorado-san-bernard\",\n",
    "            \"usgs-2018-50cm-matagorda-bay\": \"usgs18-50cm-matagorda-bay\",\n",
    "        }\n",
    "        return switcher.get(argument, \"Nothing_Found\")"
   ]
  },
  {
   "cell_type": "code",
   "execution_count": 20,
   "metadata": {},
   "outputs": [],
   "source": [
    "#Function - Download and unzip as DEM file from TNRIS\n",
    "def funcDownloadTiles(tileURL):\n",
    "    #Download each zip file and extract to the strDEMDownloadPath\n",
    "    r = requests.get(tileURL)\n",
    "    z = zipfile.ZipFile(io.BytesIO(r.content))\n",
    "    z.extractall(strDEMDownloadPath)"
   ]
  },
  {
   "cell_type": "markdown",
   "metadata": {},
   "source": [
    "***\n",
    "### 7.0 Build URL download list and Valid tile list"
   ]
  },
  {
   "cell_type": "code",
   "execution_count": 21,
   "metadata": {},
   "outputs": [],
   "source": [
    "#For each item in the arr_unique_dataset\n",
    "int_dataset = 0\n",
    "\n",
    "#Empty list for valid tiles\n",
    "arr_valid_list=[]\n",
    "\n",
    "#Empty download url list\n",
    "arr_master_url_list=[]\n",
    "\n",
    "while int_dataset < len(arr_unique_dataset):\n",
    "    #---------------------------\n",
    "    #Get a geopandas table of the current dataset\n",
    "    df_new = df_clip_QQ_lidar[df_clip_QQ_lidar['dirname'].isin([arr_unique_dataset[int_dataset]])]\n",
    "    \n",
    "    #Get a list of the unique QQ tiles for this specific dataset\n",
    "    arr_unique_QQ = (df_new.stratmap_I.unique())\n",
    "    \n",
    "    #Unique list of DEM tiles for this specific dataset\n",
    "    arr_unique_DEM_Tiles = (df_new.demname.unique())\n",
    "    \n",
    "    #Append the DEMs for this source to a master list\n",
    "    arr_valid_list.extend(arr_unique_DEM_Tiles)\n",
    "    \n",
    "    #df_new.plot(color='purple', edgecolor='black', alpha=0.75)\n",
    "    #---------------------------\n",
    "    #Create a list of urls of the DEM tiles to download from the TNRIS server\n",
    "    urls = []\n",
    "\n",
    "    for i in arr_unique_QQ:\n",
    "        # Each source have a different GUID on the AWS\n",
    "        #Build a URL for the DEMs in this dataset\n",
    "        strURLpath = (r\"https://s3.amazonaws.com/data.tnris.org/\")\n",
    "        strURLpath += getTNRIS_GUID(arr_unique_dataset[int_dataset])\n",
    "        strURLpath += (r\"/resources/\")\n",
    "        strURLpath += getTNRIS_TileHeader((arr_unique_dataset[int_dataset]))\n",
    "        strURLpath += (r\"_\") + i + \"_dem.zip\"\n",
    "        #print(strURLpath)\n",
    "        urls.append(strURLpath)\n",
    "    #---------------------------\n",
    "    #Due to clipping buffers and slivers there are requested tiles that do not exist\n",
    "    #Remove these tiles from the urls list by making a header request\n",
    "\n",
    "    for j in urls:\n",
    "        req = urllib.request.Request(j, method='HEAD')\n",
    "        try:\n",
    "            r = urllib.request.urlopen(req)\n",
    "        except:\n",
    "            #Remove j from the url list\n",
    "            #print('-----No Such File----- ' + j)\n",
    "            urls.remove(j)\n",
    "            pass\n",
    "    #-------------------------------\n",
    "    #add the valid urls to the master list\n",
    "    arr_master_url_list.extend(urls)\n",
    "    #-------------------------------\n",
    "    int_dataset += 1"
   ]
  },
  {
   "cell_type": "markdown",
   "metadata": {},
   "source": [
    "***\n",
    "### 8.0 Download Tiles"
   ]
  },
  {
   "cell_type": "code",
   "execution_count": 22,
   "metadata": {},
   "outputs": [
    {
     "name": "stdout",
     "output_type": "stream",
     "text": [
      "Downloading: 1 tiles\n",
      "1\n",
      "Complete\n"
     ]
    }
   ],
   "source": [
    "#Download the DEM tiles per the constructed urls\n",
    "\n",
    "print(\"Downloading: \" + str(len(arr_master_url_list)) + \" tiles\")\n",
    "#**************************\n",
    "#Downloading the DEM tiles from the arr_master_url_list\n",
    "i=0\n",
    "results = ThreadPool(10).imap_unordered(funcDownloadTiles, arr_master_url_list)\n",
    "for strRequestedTile in results:\n",
    "    i += 1\n",
    "    print(i)\n",
    "print(\"Complete\")\n",
    "#**************************\n",
    "\n",
    "#Using list comprehension to add '.img' to each item in the list\n",
    "arr_valid_list = [i + '.img' for i in arr_valid_list]\n",
    "#print(arr_valid_list)\n",
    "\n",
    "#Go through the strDEMDownloadPath and remove all files that do not match an item in the arr_valid_list.\n",
    "for filename in os.listdir(strDEMDownloadPath):\n",
    "    if filename not in arr_valid_list:\n",
    "        file_path = os.path.join(strDEMDownloadPath,filename)\n",
    "        try:\n",
    "            if os.path.isfile(file_path) or os.path.islink(file_path):\n",
    "                os.unlink(file_path)\n",
    "        except Exception as e:\n",
    "            print('Failed to delete %s. Reason: %s' % (file_path, e))"
   ]
  },
  {
   "cell_type": "markdown",
   "metadata": {},
   "source": [
    "***\n",
    "### 9.0 Merge DEM tiles"
   ]
  },
  {
   "cell_type": "code",
   "execution_count": 23,
   "metadata": {},
   "outputs": [],
   "source": [
    "#The USGS files when downloaded and unzipped create two folders\n",
    "#titled \"Block_metadata\" & \"Projectwide_metadata\"\n",
    "#These files, if they exist are removed\n",
    "\n",
    "strBlockFolder = strDEMDownloadPath + r\"\\Block_metadata\"\n",
    "strProjectwideFolder = strDEMDownloadPath + r\"\\Projectwide_metadata\"\n",
    "   \n",
    "if os.path.exists(strProjectwideFolder) and os.path.isdir(strProjectwideFolder):\n",
    "    shutil.rmtree(strProjectwideFolder)\n",
    "    \n",
    "if os.path.exists(strBlockFolder) and os.path.isdir(strBlockFolder):\n",
    "    shutil.rmtree(strBlockFolder)"
   ]
  },
  {
   "cell_type": "code",
   "execution_count": 24,
   "metadata": {},
   "outputs": [],
   "source": [
    "#Create the merged DEM from the downloaded files\n",
    "\n",
    "# Create a list of all the files to merge \n",
    "# https://automating-gis-processes.github.io/CSC18/lessons/L6/raster-mosaic.html\n",
    "\n",
    "search_criteria = \"*\"\n",
    "q = os.path.join(strDEMDownloadPath, search_criteria)\n",
    "dem_files = glob.glob(q)\n",
    "#dem_files[:6]\n",
    "\n",
    "# Empty list to store opened DEM files\n",
    "d = []\n",
    "for file in dem_files:\n",
    "    src = rasterio.open(file)\n",
    "    d.append(src)\n",
    "    \n",
    "out_meta = src.meta.copy()\n",
    "\n",
    "mosaic, out_trans = merge(d)\n",
    "\n",
    "# Create Metadata of the for the mosaic TIFF\n",
    "out_meta.update({\"driver\": \"HFA\",\"height\":mosaic.shape[1],\"width\":mosaic.shape[2],\"transform\": out_trans,})\n",
    "\n",
    "# Write the updated DEM to the specified file path\n",
    "with rasterio.open(strOutTiffPath, \"w\", **out_meta) as dest:\n",
    "    dest.write(mosaic)\n",
    "    "
   ]
  },
  {
   "cell_type": "code",
   "execution_count": 25,
   "metadata": {},
   "outputs": [
    {
     "data": {
      "image/png": "[encoded data removed]",
      "text/plain": [
       "<Figure size 432x288 with 1 Axes>"
      ]
     },
     "metadata": {
      "needs_background": "light"
     },
     "output_type": "display_data"
    },
    {
     "data": {
      "text/plain": [
       "<AxesSubplot:>"
      ]
     },
     "execution_count": 25,
     "metadata": {},
     "output_type": "execute_result"
    }
   ],
   "source": [
    "show(mosaic, cmap='terrain')"
   ]
  },
  {
   "cell_type": "markdown",
   "metadata": {},
   "source": [
    "***\n",
    "### 10.0 Clip to requested limits - Convert to requested CRS"
   ]
  },
  {
   "cell_type": "code",
   "execution_count": 26,
   "metadata": {},
   "outputs": [],
   "source": [
    "def getFeatures(gdf,int_polyIndex):\n",
    "    \"\"\"Function to parse features from GeoDataFrame in such a manner that rasterio wants them\"\"\"\n",
    "    import json\n",
    "    return [json.loads(gdf.to_json())['features'][int_polyIndex]['geometry']]"
   ]
  },
  {
   "cell_type": "code",
   "execution_count": 27,
   "metadata": {},
   "outputs": [
    {
     "name": "stdout",
     "output_type": "stream",
     "text": [
      "26914\n"
     ]
    }
   ],
   "source": [
    "# Read the overall Terrain raster\n",
    "src = rasterio.open(strOutTiffPath)\n",
    "\n",
    "# Copy the metadata of the src terrain data\n",
    "out_meta = src.meta.copy()\n",
    "\n",
    "#Get the projection of the raster\n",
    "d = gdal.Open(strOutTiffPath)\n",
    "proj = osr.SpatialReference(wkt=d.GetProjection())\n",
    "str_EPSG_Raster = proj.GetAttrValue('AUTHORITY',1)\n",
    "print(str_EPSG_Raster)"
   ]
  },
  {
   "cell_type": "code",
   "execution_count": 28,
   "metadata": {},
   "outputs": [],
   "source": [
    "# re-project the clip polygon into same CRS as terrain raster\n",
    "df_boundary = df_boundary.to_crs(epsg=str_EPSG_Raster)\n",
    "\n",
    "# Converts the buffer to a GeoJson version for rasterio\n",
    "# currently requests the first polygon in the geometry\n",
    "coords = getFeatures(df_boundary,0)\n",
    "\n",
    "# Clip the raster with Polygon\n",
    "out_img, out_transform = mask(dataset=src, shapes=coords, crop=True)\n",
    "\n",
    "# Metadata for the clipped image\n",
    "# This uses the out_image height and width\n",
    "out_meta.update({\"driver\": \"GTiff\",\"height\":out_img.shape[1],\"width\":out_img.shape[2],\"transform\": out_transform,})\n",
    "\n",
    "with rasterio.open(strClip_Path, \"w\", **out_meta) as dest:\n",
    "    dest.write(out_img)"
   ]
  },
  {
   "cell_type": "code",
   "execution_count": 29,
   "metadata": {},
   "outputs": [
    {
     "data": {
      "text/plain": [
       "<AxesSubplot:>"
      ]
     },
     "execution_count": 29,
     "metadata": {},
     "output_type": "execute_result"
    },
    {
     "data": {
      "image/png": "[encoded data removed]",
      "text/plain": [
       "<Figure size 432x432 with 1 Axes>"
      ]
     },
     "metadata": {
      "needs_background": "light"
     },
     "output_type": "display_data"
    }
   ],
   "source": [
    "src2 = rasterio.open(strClip_Path)\n",
    "\n",
    "# Re-project the requested data Polygon into same CRS as the dst_crs\n",
    "df_boundary_unbuff = gpd.read_file(strBounady_AR)\n",
    "df_boundary_unbuff = df_boundary_unbuff.to_crs(epsg=str_EPSG_Raster)\n",
    "\n",
    "#print the raster and the boundary in the native raster CRS\n",
    "# Plot the last terrain waterhsed on top of the clipped land use raster\n",
    "fig, ax = plt.subplots(figsize=(6, 6))\n",
    "show(src2, cmap='terrain', ax=ax)\n",
    "df_boundary_unbuff.plot(ax=ax, facecolor='none', edgecolor='red')"
   ]
  },
  {
   "cell_type": "code",
   "execution_count": null,
   "metadata": {},
   "outputs": [],
   "source": []
  }
 ],
 "metadata": {
  "kernelspec": {
   "display_name": "Python [conda env:harvest] *",
   "language": "python",
   "name": "conda-env-harvest-py"
  },
  "language_info": {
   "codemirror_mode": {
    "name": "ipython",
    "version": 3
   },
   "file_extension": ".py",
   "mimetype": "text/x-python",
   "name": "python",
   "nbconvert_exporter": "python",
   "pygments_lexer": "ipython3",
   "version": "3.8.5"
  }
 },
 "nbformat": 4,
 "nbformat_minor": 2
}
